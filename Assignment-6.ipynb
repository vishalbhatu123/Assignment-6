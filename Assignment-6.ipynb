{
 "cells": [
  {
   "cell_type": "markdown",
   "id": "31b89f4e",
   "metadata": {},
   "source": [
    "# . Create a JSON file (employee.json) containing employee information of minimum 5 employees. Each employee information consists of Name, DOB, Height, City, State. Write a python program that reads this information from the JSON file and saves the information into a list of objects of Employee class. Finally print the list of the Employee objects."
   ]
  },
  {
   "cell_type": "code",
   "execution_count": 1,
   "id": "c19a510c",
   "metadata": {},
   "outputs": [
    {
     "name": "stdout",
     "output_type": "stream",
     "text": [
      "Enter your name: vishal\n",
      "Enter your DOB: 7-10-2001\n",
      "Enter your height: 5.7\n",
      "Enter your city: ulhasnagar\n",
      "Enter your state: maharashtra\n",
      "Enter your name: sandeep\n",
      "Enter your DOB: 15-10-1999\n",
      "Enter your height: 5.5\n",
      "Enter your city: mulund\n",
      "Enter your state: maharashtra\n",
      "Enter your name: dinesh\n",
      "Enter your DOB: 2-10-2000\n",
      "Enter your height: 5.10\n",
      "Enter your city: jaipur\n",
      "Enter your state: rajasthan\n",
      "Enter your name: vikram\n",
      "Enter your DOB: 4-10-2002\n",
      "Enter your height: 5.7\n",
      "Enter your city: surat\n",
      "Enter your state: gujrat\n",
      "Enter your name: rohit\n",
      "Enter your DOB: 10-10-1993\n",
      "Enter your height: 5.10\n",
      "Enter your city: jalandhar\n",
      "Enter your state: punjab\n",
      "--------------------------------------------------\n",
      "[{'name': 'vishal', 'dob': '7-10-2001', 'height': '5.7', 'city': 'ulhasnagar', 'state': 'maharashtra'}]\n",
      "[{'name': 'sandeep', 'dob': '15-10-1999', 'height': '5.5', 'city': 'mulund', 'state': 'maharashtra'}]\n",
      "[{'name': 'dinesh', 'dob': '2-10-2000', 'height': '5.10', 'city': 'jaipur', 'state': 'rajasthan'}]\n",
      "[{'name': 'vikram', 'dob': '4-10-2002', 'height': '5.7', 'city': 'surat', 'state': 'gujrat'}]\n",
      "[{'name': 'rohit', 'dob': '10-10-1993', 'height': '5.10', 'city': 'jalandhar', 'state': 'punjab'}]\n"
     ]
    }
   ],
   "source": [
    "import json\n",
    "class Employee:\n",
    "    def __init__(self):\n",
    "        self.emp_dic={}\n",
    "    def creat_JSON(self):\n",
    "        for i in range(5):\n",
    "            name = input(\"Enter your name: \")\n",
    "            dob = input('Enter your DOB: ')\n",
    "            height = input('Enter your height: ')\n",
    "            city = input('Enter your city: ')\n",
    "            state = input('Enter your state: ')\n",
    "            emp={'name':name,'dob':dob,'height':height,'city':city,'state':state}\n",
    "            emp_id = len(self.emp_dic)+1\n",
    "            self.emp_dic[emp_id]=emp\n",
    "        with open(\"emps.json\",'w') as f:\n",
    "            json.dump(self.emp_dic,f)\n",
    "\n",
    "    def data_print(self):\n",
    "        with open(\"emps.json\",\"r\") as f:\n",
    "            data = json.load(f)\n",
    "        for i in data.values():\n",
    "            l1 = []\n",
    "            l1.append(i)\n",
    "            print(l1)   \n",
    "\n",
    "x =Employee()            \n",
    "x.creat_JSON()\n",
    "print(\"--------------------------------------------------\")\n",
    "x.data_print()"
   ]
  },
  {
   "cell_type": "markdown",
   "id": "13173c96",
   "metadata": {},
   "source": [
    "# Create a class named ‘Dog’. It should have a constructor which accepts its name, age and coat color. You must perform the following operations:"
   ]
  },
  {
   "cell_type": "code",
   "execution_count": 4,
   "id": "aa92a4ad",
   "metadata": {},
   "outputs": [
    {
     "name": "stdout",
     "output_type": "stream",
     "text": [
      "Please enter your pet'\\s name: JackRussellTerrier\n",
      "What animal is your pet?dog\n",
      "What is the age of your pet?10\n",
      "pet name is  JackRussellTerrier\n",
      "pet type is  dog\n",
      "pet age is  10.0\n"
     ]
    }
   ],
   "source": [
    "class Pet:\n",
    "    def __init__(self, name,animal_type,age):\n",
    "        self.__name = name\n",
    "        self.__animal_type = animal_type\n",
    "        self.__age = age\n",
    "\n",
    "    def set_name(self,name):\n",
    "        self.__name = name\n",
    "\n",
    "    def set_animal_type(self,animal_type):\n",
    "        self.__animal_type = animal_type\n",
    "\n",
    "    def set_age(self,age):\n",
    "        self.__age = age\n",
    "\n",
    "    def get_name(self):\n",
    "        return self.__name\n",
    "\n",
    "    def get_age(self):\n",
    "        return self.__age\n",
    "\n",
    "    def get_animal_tpe(self):\n",
    "        return self.__animal_coat\n",
    "\n",
    "\n",
    "def main():\n",
    "    pet_name = input('Please enter your pet\\'\\s name: ')\n",
    "    pet_type = input('What animal is your pet?')\n",
    "    pet_age = float(input('What is the age of your pet?'))\n",
    "\n",
    "    pet_specs = Pet(pet_name,pet_type,pet_age)\n",
    "\n",
    "    print('pet name is ', pet_specs.get_name())\n",
    "    print('pet type is ', pet_specs.get_animal_tpe())\n",
    "    print('pet age is ', pet_specs.get_age())\n",
    "    \n",
    "main()"
   ]
  },
  {
   "cell_type": "code",
   "execution_count": null,
   "id": "b13a3efc",
   "metadata": {},
   "outputs": [],
   "source": []
  }
 ],
 "metadata": {
  "kernelspec": {
   "display_name": "Python 3 (ipykernel)",
   "language": "python",
   "name": "python3"
  },
  "language_info": {
   "codemirror_mode": {
    "name": "ipython",
    "version": 3
   },
   "file_extension": ".py",
   "mimetype": "text/x-python",
   "name": "python",
   "nbconvert_exporter": "python",
   "pygments_lexer": "ipython3",
   "version": "3.9.13"
  }
 },
 "nbformat": 4,
 "nbformat_minor": 5
}
